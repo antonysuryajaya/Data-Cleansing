{
  "cells": [
    {
      "cell_type": "markdown",
      "source": [
        "# mengimport library"
      ],
      "metadata": {
        "id": "RQkYqZr7hAtZ"
      }
    },
    {
      "cell_type": "code",
      "source": [
        "import pandas as pd\n",
        "import numpy as np\n",
        "from google.colab import drive"
      ],
      "metadata": {
        "id": "K9uvMRA9g_gK"
      },
      "execution_count": 1,
      "outputs": []
    },
    {
      "cell_type": "markdown",
      "source": [
        "# melakukan mount pada file"
      ],
      "metadata": {
        "id": "0EeD80_ynW2D"
      }
    },
    {
      "cell_type": "code",
      "source": [
        "drive.mount('/content/drive')"
      ],
      "metadata": {
        "colab": {
          "base_uri": "https://localhost:8080/"
        },
        "id": "s4iaEQRAnVpa",
        "outputId": "d383c56b-197a-4f8a-818d-d31a9968052c"
      },
      "execution_count": 2,
      "outputs": [
        {
          "output_type": "stream",
          "name": "stdout",
          "text": [
            "Drive already mounted at /content/drive; to attempt to forcibly remount, call drive.mount(\"/content/drive\", force_remount=True).\n"
          ]
        }
      ]
    },
    {
      "cell_type": "markdown",
      "source": [
        "# set up dan memuat data"
      ],
      "metadata": {
        "id": "2PqiTnwZhNNF"
      }
    },
    {
      "cell_type": "code",
      "source": [
        "file_path = '/content/drive/MyDrive/Colab Notebooks/Data Mining/planes.xlsx'\n",
        "df = pd.read_excel(file_path)\n",
        "\n",
        "print(\"=== Data Awal ===\")\n",
        "print(\"Data Kosong (NaN) Awal di semua kolom:\")\n",
        "print(df.info())\n",
        "print(df.isnull().sum())\n",
        "print(\"=\"*60)\n"
      ],
      "metadata": {
        "colab": {
          "base_uri": "https://localhost:8080/"
        },
        "id": "ne_rq-zdhRAQ",
        "outputId": "378717f9-2035-4207-c953-593f2e5b1536"
      },
      "execution_count": 3,
      "outputs": [
        {
          "output_type": "stream",
          "name": "stdout",
          "text": [
            "=== Data Awal ===\n",
            "Data Kosong (NaN) Awal di semua kolom:\n",
            "<class 'pandas.core.frame.DataFrame'>\n",
            "RangeIndex: 3322 entries, 0 to 3321\n",
            "Data columns (total 9 columns):\n",
            " #   Column        Non-Null Count  Dtype  \n",
            "---  ------        --------------  -----  \n",
            " 0   tailnum       3322 non-null   object \n",
            " 1   year          3252 non-null   float64\n",
            " 2   type          3322 non-null   object \n",
            " 3   manufacturer  3322 non-null   object \n",
            " 4   model         3322 non-null   object \n",
            " 5   engines       3322 non-null   int64  \n",
            " 6   seats         3322 non-null   int64  \n",
            " 7   speed         23 non-null     float64\n",
            " 8   engine        3322 non-null   object \n",
            "dtypes: float64(2), int64(2), object(5)\n",
            "memory usage: 233.7+ KB\n",
            "None\n",
            "tailnum            0\n",
            "year              70\n",
            "type               0\n",
            "manufacturer       0\n",
            "model              0\n",
            "engines            0\n",
            "seats              0\n",
            "speed           3299\n",
            "engine             0\n",
            "dtype: int64\n",
            "============================================================\n"
          ]
        }
      ]
    },
    {
      "cell_type": "markdown",
      "source": [
        "# menghapus kolom speed\n"
      ],
      "metadata": {
        "id": "SFbLhoqBmcfo"
      }
    },
    {
      "cell_type": "markdown",
      "source": [
        "dikarenakan banyaknya kolom yang kosong"
      ],
      "metadata": {
        "id": "1bRZvuYXnE9y"
      }
    },
    {
      "cell_type": "code",
      "source": [
        "df.drop(columns=['speed'], inplace=True)"
      ],
      "metadata": {
        "id": "4YhWaqd8moCI"
      },
      "execution_count": 4,
      "outputs": []
    },
    {
      "cell_type": "markdown",
      "source": [
        "# menangani missing value pada year"
      ],
      "metadata": {
        "id": "GO1jDB6MoJdr"
      }
    },
    {
      "cell_type": "code",
      "source": [
        "median_year = df['year'].median()\n",
        "df['year'] = df['year'].fillna(median_year)\n"
      ],
      "metadata": {
        "id": "Jg5R6PUxoUCs"
      },
      "execution_count": 6,
      "outputs": []
    },
    {
      "cell_type": "markdown",
      "source": [
        "# mengecek dan menghapus adanya duplikat"
      ],
      "metadata": {
        "id": "bF6al-uDokFc"
      }
    },
    {
      "cell_type": "code",
      "source": [
        "print(\"Jumlah data duplikat:\", df.duplicated().sum())\n",
        "df.drop_duplicates(inplace=True)"
      ],
      "metadata": {
        "colab": {
          "base_uri": "https://localhost:8080/"
        },
        "id": "Ttu1SvaJooXt",
        "outputId": "15e65c3b-c583-43ac-8130-3f60a4233b33"
      },
      "execution_count": 7,
      "outputs": [
        {
          "output_type": "stream",
          "name": "stdout",
          "text": [
            "Jumlah data duplikat: 0\n"
          ]
        }
      ]
    },
    {
      "cell_type": "markdown",
      "source": [
        "# standarisasi data"
      ],
      "metadata": {
        "id": "nu7B1jSsoqbU"
      }
    },
    {
      "cell_type": "code",
      "source": [
        "df['manufacturer'] = df['manufacturer'].str.strip().str.title()\n",
        "df['engine'] = df['engine'].str.strip().str.title()\n",
        "df['type'] = df['type'].str.strip().str.title()"
      ],
      "metadata": {
        "id": "Nr4coyZ4oydF"
      },
      "execution_count": 8,
      "outputs": []
    },
    {
      "cell_type": "markdown",
      "source": [
        "# Cek outlier sederhana pada kolom numeric"
      ],
      "metadata": {
        "id": "wLcITXs7o1oA"
      }
    },
    {
      "cell_type": "code",
      "source": [
        "print(\"\\nStatistik Deskriptif (numeric):\")\n",
        "print(df.describe())"
      ],
      "metadata": {
        "colab": {
          "base_uri": "https://localhost:8080/"
        },
        "id": "9gJgwG8Qo4zU",
        "outputId": "db5b86b4-db2f-421d-eb4d-6a74942d95d2"
      },
      "execution_count": 9,
      "outputs": [
        {
          "output_type": "stream",
          "name": "stdout",
          "text": [
            "\n",
            "Statistik Deskriptif (numeric):\n",
            "              year      engines        seats\n",
            "count  3322.000000  3322.000000  3322.000000\n",
            "mean   2000.494883     1.995184   154.316376\n",
            "std       7.117596     0.117593    73.654974\n",
            "min    1956.000000     1.000000     2.000000\n",
            "25%    1997.000000     2.000000   140.000000\n",
            "50%    2001.000000     2.000000   149.000000\n",
            "75%    2005.000000     2.000000   182.000000\n",
            "max    2013.000000     4.000000   450.000000\n"
          ]
        }
      ]
    },
    {
      "cell_type": "markdown",
      "source": [
        "Hasil akhir"
      ],
      "metadata": {
        "id": "x3tASExupFZq"
      }
    },
    {
      "cell_type": "code",
      "source": [
        "print(\"\\n=== Data Setelah Cleaning ===\")\n",
        "print(df.info())\n",
        "print(df.head())\n",
        "print(\"\\nJumlah missing value setelah cleaning:\")\n",
        "print(df.isnull().sum())"
      ],
      "metadata": {
        "colab": {
          "base_uri": "https://localhost:8080/"
        },
        "id": "g_Ko2WTMpGNX",
        "outputId": "e5eb4837-ae7f-4ea6-bc96-900df57c0f3c"
      },
      "execution_count": 10,
      "outputs": [
        {
          "output_type": "stream",
          "name": "stdout",
          "text": [
            "\n",
            "=== Data Setelah Cleaning ===\n",
            "<class 'pandas.core.frame.DataFrame'>\n",
            "RangeIndex: 3322 entries, 0 to 3321\n",
            "Data columns (total 8 columns):\n",
            " #   Column        Non-Null Count  Dtype  \n",
            "---  ------        --------------  -----  \n",
            " 0   tailnum       3322 non-null   object \n",
            " 1   year          3322 non-null   float64\n",
            " 2   type          3322 non-null   object \n",
            " 3   manufacturer  3322 non-null   object \n",
            " 4   model         3322 non-null   object \n",
            " 5   engines       3322 non-null   int64  \n",
            " 6   seats         3322 non-null   int64  \n",
            " 7   engine        3322 non-null   object \n",
            "dtypes: float64(1), int64(2), object(5)\n",
            "memory usage: 207.8+ KB\n",
            "None\n",
            "  tailnum    year                     type      manufacturer      model  \\\n",
            "0  N10156  2004.0  Fixed Wing Multi Engine           Embraer  EMB-145XR   \n",
            "1  N102UW  1998.0  Fixed Wing Multi Engine  Airbus Industrie   A320-214   \n",
            "2  N103US  1999.0  Fixed Wing Multi Engine  Airbus Industrie   A320-214   \n",
            "3  N104UW  1999.0  Fixed Wing Multi Engine  Airbus Industrie   A320-214   \n",
            "4  N10575  2002.0  Fixed Wing Multi Engine           Embraer  EMB-145LR   \n",
            "\n",
            "   engines  seats     engine  \n",
            "0        2     55  Turbo-Fan  \n",
            "1        2    182  Turbo-Fan  \n",
            "2        2    182  Turbo-Fan  \n",
            "3        2    182  Turbo-Fan  \n",
            "4        2     55  Turbo-Fan  \n",
            "\n",
            "Jumlah missing value setelah cleaning:\n",
            "tailnum         0\n",
            "year            0\n",
            "type            0\n",
            "manufacturer    0\n",
            "model           0\n",
            "engines         0\n",
            "seats           0\n",
            "engine          0\n",
            "dtype: int64\n"
          ]
        }
      ]
    },
    {
      "cell_type": "markdown",
      "source": [
        "# simpan hasil data bersih"
      ],
      "metadata": {
        "id": "OhXRJhTOpgk5"
      }
    },
    {
      "cell_type": "code",
      "source": [
        "output_file_path = '/content/drive/MyDrive/Colab Notebooks/Data Mining/planes_cleansed.xlsx'\n",
        "\n",
        "try:\n",
        "    df.to_excel(output_file_path, index=False)\n",
        "    print(f\"\\n✅ File Berhasil Disimpan!\")\n",
        "    print(f\"File bersih tersedia di: {output_file_path}\")\n",
        "\n",
        "except Exception as e:\n",
        "    print(f\"\\n❌ Terjadi kesalahan saat menyimpan file: {e}\")\n"
      ],
      "metadata": {
        "colab": {
          "base_uri": "https://localhost:8080/"
        },
        "id": "5o1fBd4GpkJI",
        "outputId": "bccc895d-91ec-46f0-f8b9-1297971a8778"
      },
      "execution_count": 12,
      "outputs": [
        {
          "output_type": "stream",
          "name": "stdout",
          "text": [
            "\n",
            "✅ File Berhasil Disimpan!\n",
            "File bersih tersedia di: /content/drive/MyDrive/Colab Notebooks/Data Mining/planes_cleansed.xlsx\n"
          ]
        }
      ]
    }
  ],
  "metadata": {
    "colab": {
      "provenance": [],
      "toc_visible": true
    },
    "kernelspec": {
      "display_name": "Python 3",
      "name": "python3"
    }
  },
  "nbformat": 4,
  "nbformat_minor": 0
}